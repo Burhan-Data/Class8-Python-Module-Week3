{
 "cells": [
  {
   "cell_type": "code",
   "execution_count": null,
   "id": "00a136a2-2309-4141-b1f8-fb944ee8cf71",
   "metadata": {},
   "outputs": [],
   "source": [
    "#Burhan Kabadayi Week 3 Assingment"
   ]
  },
  {
   "cell_type": "code",
   "execution_count": null,
   "id": "e01c6f4e-a98e-4aee-96b8-a34ad00a6962",
   "metadata": {},
   "outputs": [],
   "source": [
    "#Assignment 1"
   ]
  },
  {
   "cell_type": "code",
   "execution_count": 3,
   "id": "ff64657d-6efb-483e-bdb4-67ed58ebb32e",
   "metadata": {},
   "outputs": [
    {
     "name": "stdin",
     "output_type": "stream",
     "text": [
      "Please enter the factorial number! 6\n"
     ]
    },
    {
     "name": "stdout",
     "output_type": "stream",
     "text": [
      "       1 \n",
      "      1 1 \n",
      "     1 2 1 \n",
      "    1 3 3 1 \n",
      "   1 4 6 4 1 \n",
      "  1 5 10 10 5 1 \n"
     ]
    }
   ],
   "source": [
    "from math import factorial\n",
    " # input n\n",
    "n = int(input('Please enter the factorial number!'))\n",
    "for i in range(n):\n",
    "    for j in range(n-i+1):\n",
    "\n",
    "        print(end=\" \")\n",
    " \n",
    "    for j in range(i+1):\n",
    " \n",
    "        print(factorial(i)//(factorial(j)*factorial(i-j)), end=\" \")\n",
    " \n",
    "    print()\n"
   ]
  },
  {
   "cell_type": "code",
   "execution_count": null,
   "id": "576af0e9-6beb-40d7-b7b2-ed8efa4a4f1e",
   "metadata": {},
   "outputs": [],
   "source": [
    "#Assignment 2"
   ]
  },
  {
   "cell_type": "code",
   "execution_count": 4,
   "id": "f8359d2b-098c-494e-9624-b3da84babbb4",
   "metadata": {},
   "outputs": [
    {
     "name": "stdout",
     "output_type": "stream",
     "text": [
      "black-green-red-white-yellow\n"
     ]
    }
   ],
   "source": [
    "txt = \"green-red-yellow-black-white\"\n",
    "x = txt.split('-')\n",
    "x.sort()\n",
    "y ='-'.join(x)\n",
    "print(y)"
   ]
  },
  {
   "cell_type": "code",
   "execution_count": null,
   "id": "6437e863-7961-45e1-bd38-0d0579cae605",
   "metadata": {},
   "outputs": [],
   "source": [
    "#Assignment 3"
   ]
  },
  {
   "cell_type": "code",
   "execution_count": 5,
   "id": "3a90eaec-2b8a-4689-b236-41486096d956",
   "metadata": {},
   "outputs": [
    {
     "name": "stdin",
     "output_type": "stream",
     "text": [
      "enter a number? 28\n"
     ]
    },
    {
     "name": "stdout",
     "output_type": "stream",
     "text": [
      "28 is a perfect number\n",
      "[1, 2, 4, 7, 14]\n"
     ]
    }
   ],
   "source": [
    "list_division = []\n",
    "num = int(input('enter a number?'))\n",
    "for i in range(1,num):\n",
    "    if num%i==0:\n",
    "        list_division.append(i)\n",
    "        sum=0\n",
    "        for i in list_division:\n",
    "            sum+=i\n",
    "if sum == num:\n",
    "    print(f'{num} is a perfect number')\n",
    "else:\n",
    "    print(f'{num} is NOT a perfect number')\n",
    "print(list_division)\n"
   ]
  },
  {
   "cell_type": "code",
   "execution_count": null,
   "id": "038cc4c0-04ab-4388-a0b3-8925e4a45880",
   "metadata": {},
   "outputs": [],
   "source": [
    "#Assignment 4"
   ]
  },
  {
   "cell_type": "code",
   "execution_count": 6,
   "id": "1e6a68f5-fc1f-46b4-9454-34a2ada2a041",
   "metadata": {},
   "outputs": [
    {
     "name": "stdin",
     "output_type": "stream",
     "text": [
      "How many letters do you want? 4\n",
      "How many numbers do you want? 2\n",
      "How many symbols do you want? 3\n"
     ]
    },
    {
     "name": "stdout",
     "output_type": "stream",
     "text": [
      "Finan password is yr5+KQ(+8\n"
     ]
    }
   ],
   "source": [
    "import random\n",
    "letters = ['a', 'b', 'c', 'd', 'e', 'f', 'g', 'h', 'i', \n",
    "           'j', 'k', 'l', 'm', 'n', 'o', 'p', 'q', 'r', 's', \n",
    "           't', 'u', 'v', 'w', 'x', 'y', 'z', 'A', 'B', 'C', 'D', \n",
    "           'E', 'F', 'G', 'H', 'I', 'J', 'K', 'L', 'M', 'N', 'O', 'P', \n",
    "           'Q', 'R', 'S', 'T', 'U', 'V', 'W', 'X', 'Y', 'Z']\n",
    "numbers = ['0', '1', '2', '3', '4', '5', '6', '7', '8', '9']\n",
    "symbols = ['!', '#', '$', '%', '&', '(', ')', '*', '+']\n",
    "\n",
    "n = int(input('How many letters do you want?'))\n",
    "m = int(input('How many numbers do you want?'))\n",
    "h = int(input('How many symbols do you want?'))\n",
    "\n",
    "letter1= []\n",
    "numbers1 = []\n",
    "symbols1=[]\n",
    "\n",
    "for i in range(n):\n",
    "    i=random.choice(letters)\n",
    "    letter1.append(i)\n",
    "\n",
    "\n",
    "for i in range(m):\n",
    "    i=random.choice(numbers)\n",
    "    numbers1.append(i)\n",
    "\n",
    "\n",
    "for i in range(h):\n",
    "    i=random.choice(symbols)\n",
    "    symbols1.append(i)\n",
    "\n",
    "password1 = letter1+ numbers1+symbols1\n",
    "random.shuffle(password1)\n",
    "\n",
    "final_password=''\n",
    "for i in password1:\n",
    "    final_password+=i\n",
    "print(f'Finan password is {final_password}')"
   ]
  },
  {
   "cell_type": "code",
   "execution_count": null,
   "id": "1a9100b6-39bd-4f14-abf9-ea4db5dd8b0b",
   "metadata": {},
   "outputs": [],
   "source": [
    "#Bonus 2"
   ]
  },
  {
   "cell_type": "code",
   "execution_count": 7,
   "id": "0f18cb93-4ce4-46cc-8a27-4aaa5ddcae81",
   "metadata": {},
   "outputs": [
    {
     "name": "stdout",
     "output_type": "stream",
     "text": [
      "[2, 4, 6, 8, 10]\n",
      "[1, 3, 5, 7, 9]\n"
     ]
    }
   ],
   "source": [
    "liste = [1, 2, 3, 4, 5, 6, 7, 8, 9, 10]\n",
    "even = list(filter(lambda x: x%2==0, liste))\n",
    "odd = list(filter(lambda x: x%2!=0, liste))\n",
    "print(even)\n",
    "print(odd)"
   ]
  },
  {
   "cell_type": "code",
   "execution_count": null,
   "id": "b909b9a8-6a78-4660-816e-21d979d663ce",
   "metadata": {},
   "outputs": [],
   "source": []
  }
 ],
 "metadata": {
  "kernelspec": {
   "display_name": "Python 3 (ipykernel)",
   "language": "python",
   "name": "python3"
  },
  "language_info": {
   "codemirror_mode": {
    "name": "ipython",
    "version": 3
   },
   "file_extension": ".py",
   "mimetype": "text/x-python",
   "name": "python",
   "nbconvert_exporter": "python",
   "pygments_lexer": "ipython3",
   "version": "3.9.12"
  }
 },
 "nbformat": 4,
 "nbformat_minor": 5
}
